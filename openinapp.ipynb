{
  "nbformat": 4,
  "nbformat_minor": 0,
  "metadata": {
    "colab": {
      "provenance": []
    },
    "kernelspec": {
      "name": "python3",
      "display_name": "Python 3"
    },
    "language_info": {
      "name": "python"
    }
  },
  "cells": [
    {
      "cell_type": "code",
      "execution_count": 1,
      "metadata": {
        "id": "FKzp8xDrTTjG",
        "colab": {
          "base_uri": "https://localhost:8080/"
        },
        "outputId": "721c8da0-7e64-4be7-9678-4f59c196fa08"
      },
      "outputs": [
        {
          "output_type": "stream",
          "name": "stdout",
          "text": [
            "Requirement already satisfied: transformers in /usr/local/lib/python3.10/dist-packages (4.34.0)\n",
            "Requirement already satisfied: filelock in /usr/local/lib/python3.10/dist-packages (from transformers) (3.12.4)\n",
            "Requirement already satisfied: huggingface-hub<1.0,>=0.16.4 in /usr/local/lib/python3.10/dist-packages (from transformers) (0.17.3)\n",
            "Requirement already satisfied: numpy>=1.17 in /usr/local/lib/python3.10/dist-packages (from transformers) (1.23.5)\n",
            "Requirement already satisfied: packaging>=20.0 in /usr/local/lib/python3.10/dist-packages (from transformers) (23.2)\n",
            "Requirement already satisfied: pyyaml>=5.1 in /usr/local/lib/python3.10/dist-packages (from transformers) (6.0.1)\n",
            "Requirement already satisfied: regex!=2019.12.17 in /usr/local/lib/python3.10/dist-packages (from transformers) (2023.6.3)\n",
            "Requirement already satisfied: requests in /usr/local/lib/python3.10/dist-packages (from transformers) (2.31.0)\n",
            "Requirement already satisfied: tokenizers<0.15,>=0.14 in /usr/local/lib/python3.10/dist-packages (from transformers) (0.14.1)\n",
            "Requirement already satisfied: safetensors>=0.3.1 in /usr/local/lib/python3.10/dist-packages (from transformers) (0.4.0)\n",
            "Requirement already satisfied: tqdm>=4.27 in /usr/local/lib/python3.10/dist-packages (from transformers) (4.66.1)\n",
            "Requirement already satisfied: fsspec in /usr/local/lib/python3.10/dist-packages (from huggingface-hub<1.0,>=0.16.4->transformers) (2023.6.0)\n",
            "Requirement already satisfied: typing-extensions>=3.7.4.3 in /usr/local/lib/python3.10/dist-packages (from huggingface-hub<1.0,>=0.16.4->transformers) (4.5.0)\n",
            "Requirement already satisfied: charset-normalizer<4,>=2 in /usr/local/lib/python3.10/dist-packages (from requests->transformers) (3.3.0)\n",
            "Requirement already satisfied: idna<4,>=2.5 in /usr/local/lib/python3.10/dist-packages (from requests->transformers) (3.4)\n",
            "Requirement already satisfied: urllib3<3,>=1.21.1 in /usr/local/lib/python3.10/dist-packages (from requests->transformers) (2.0.6)\n",
            "Requirement already satisfied: certifi>=2017.4.17 in /usr/local/lib/python3.10/dist-packages (from requests->transformers) (2023.7.22)\n"
          ]
        }
      ],
      "source": [
        "!pip install transformers"
      ]
    },
    {
      "cell_type": "code",
      "source": [
        "!pip install torch"
      ],
      "metadata": {
        "id": "CuFAAp4hTZEI",
        "colab": {
          "base_uri": "https://localhost:8080/"
        },
        "outputId": "3f30786f-d051-4643-ba2d-736569cae505"
      },
      "execution_count": 2,
      "outputs": [
        {
          "output_type": "stream",
          "name": "stdout",
          "text": [
            "Requirement already satisfied: torch in /usr/local/lib/python3.10/dist-packages (2.0.1+cu118)\n",
            "Requirement already satisfied: filelock in /usr/local/lib/python3.10/dist-packages (from torch) (3.12.4)\n",
            "Requirement already satisfied: typing-extensions in /usr/local/lib/python3.10/dist-packages (from torch) (4.5.0)\n",
            "Requirement already satisfied: sympy in /usr/local/lib/python3.10/dist-packages (from torch) (1.12)\n",
            "Requirement already satisfied: networkx in /usr/local/lib/python3.10/dist-packages (from torch) (3.1)\n",
            "Requirement already satisfied: jinja2 in /usr/local/lib/python3.10/dist-packages (from torch) (3.1.2)\n",
            "Requirement already satisfied: triton==2.0.0 in /usr/local/lib/python3.10/dist-packages (from torch) (2.0.0)\n",
            "Requirement already satisfied: cmake in /usr/local/lib/python3.10/dist-packages (from triton==2.0.0->torch) (3.27.6)\n",
            "Requirement already satisfied: lit in /usr/local/lib/python3.10/dist-packages (from triton==2.0.0->torch) (17.0.2)\n",
            "Requirement already satisfied: MarkupSafe>=2.0 in /usr/local/lib/python3.10/dist-packages (from jinja2->torch) (2.1.3)\n",
            "Requirement already satisfied: mpmath>=0.19 in /usr/local/lib/python3.10/dist-packages (from sympy->torch) (1.3.0)\n"
          ]
        }
      ]
    },
    {
      "cell_type": "code",
      "source": [
        "from transformers import T5ForConditionalGeneration, T5Tokenizer"
      ],
      "metadata": {
        "id": "SvRCGI139L8S"
      },
      "execution_count": 3,
      "outputs": []
    },
    {
      "cell_type": "code",
      "source": [
        "!pip install sentencepiece"
      ],
      "metadata": {
        "colab": {
          "base_uri": "https://localhost:8080/"
        },
        "id": "k0LRjnM49qLw",
        "outputId": "f422eccd-8fdd-42dd-ad54-f60a056b8b13"
      },
      "execution_count": 4,
      "outputs": [
        {
          "output_type": "stream",
          "name": "stdout",
          "text": [
            "Requirement already satisfied: sentencepiece in /usr/local/lib/python3.10/dist-packages (0.1.99)\n"
          ]
        }
      ]
    },
    {
      "cell_type": "code",
      "source": [
        "from transformers import pipeline\n"
      ],
      "metadata": {
        "id": "taI6IxrE9R2c"
      },
      "execution_count": 5,
      "outputs": []
    },
    {
      "cell_type": "code",
      "source": [
        "from transformers import MBartForConditionalGeneration, MBart50TokenizerFast"
      ],
      "metadata": {
        "id": "qbaCx5bueekV"
      },
      "execution_count": 6,
      "outputs": []
    },
    {
      "cell_type": "code",
      "source": [
        "#pipe = pipeline(\"text2text-generation\", model=\"facebook/mbart-large-50-one-to-many-mmt\")"
      ],
      "metadata": {
        "id": "sVMHz84G9XAx"
      },
      "execution_count": 8,
      "outputs": []
    },
    {
      "cell_type": "code",
      "source": [
        "from transformers import AutoTokenizer, AutoModelForSeq2SeqLM\n",
        "model = MBartForConditionalGeneration.from_pretrained(\"facebook/mbart-large-50-one-to-many-mmt\")\n",
        "tokenizer = MBart50TokenizerFast.from_pretrained(\"facebook/mbart-large-50-one-to-many-mmt\", src_lang=\"en_XX\")\n"
      ],
      "metadata": {
        "id": "ekyJN7GR_Hoj"
      },
      "execution_count": 9,
      "outputs": []
    },
    {
      "cell_type": "code",
      "source": [
        "import torch"
      ],
      "metadata": {
        "id": "R3RDAeHC_zP6"
      },
      "execution_count": 10,
      "outputs": []
    },
    {
      "cell_type": "code",
      "source": [
        "def translate(sentence):\n",
        "  model_inputs = tokenizer(sentence, return_tensors=\"pt\")\n",
        "  generated_tokens = model.generate( **model_inputs, forced_bos_token_id=tokenizer.lang_code_to_id[\"hi_IN\"])\n",
        "  translation = tokenizer.batch_decode(generated_tokens, skip_special_tokens=True)\n",
        "  return translation[0]"
      ],
      "metadata": {
        "id": "UFwxbkxt_LRI"
      },
      "execution_count": 11,
      "outputs": []
    },
    {
      "cell_type": "code",
      "source": [
        "xyz='Ram will win the match next'\n",
        "abc=translate(xyz)\n",
        "print(abc)"
      ],
      "metadata": {
        "id": "57rEPFvnf6We",
        "colab": {
          "base_uri": "https://localhost:8080/"
        },
        "outputId": "f9fc3202-ab78-4fbe-caca-329f9fde4117"
      },
      "execution_count": 22,
      "outputs": [
        {
          "output_type": "stream",
          "name": "stdout",
          "text": [
            "राम अगले मैच जीतेंगे।\n"
          ]
        }
      ]
    },
    {
      "cell_type": "code",
      "source": [
        "!pip install indic-transliteration\n"
      ],
      "metadata": {
        "id": "ipMdOVSUJNLs",
        "colab": {
          "base_uri": "https://localhost:8080/"
        },
        "outputId": "d21eb536-13b9-45a8-f6fa-75bccbce54b3"
      },
      "execution_count": 13,
      "outputs": [
        {
          "output_type": "stream",
          "name": "stdout",
          "text": [
            "Collecting indic-transliteration\n",
            "  Downloading indic_transliteration-2.3.52-py3-none-any.whl (145 kB)\n",
            "\u001b[2K     \u001b[90m━━━━━━━━━━━━━━━━━━━━━━━━━━━━━━━━━━━━━━━━\u001b[0m \u001b[32m145.2/145.2 kB\u001b[0m \u001b[31m2.6 MB/s\u001b[0m eta \u001b[36m0:00:00\u001b[0m\n",
            "\u001b[?25hCollecting backports.functools-lru-cache (from indic-transliteration)\n",
            "  Downloading backports.functools_lru_cache-1.6.6-py2.py3-none-any.whl (5.9 kB)\n",
            "Requirement already satisfied: regex in /usr/local/lib/python3.10/dist-packages (from indic-transliteration) (2023.6.3)\n",
            "Requirement already satisfied: typer in /usr/local/lib/python3.10/dist-packages (from indic-transliteration) (0.9.0)\n",
            "Requirement already satisfied: toml in /usr/local/lib/python3.10/dist-packages (from indic-transliteration) (0.10.2)\n",
            "Collecting roman (from indic-transliteration)\n",
            "  Downloading roman-4.1-py3-none-any.whl (5.5 kB)\n",
            "Requirement already satisfied: click<9.0.0,>=7.1.1 in /usr/local/lib/python3.10/dist-packages (from typer->indic-transliteration) (8.1.7)\n",
            "Requirement already satisfied: typing-extensions>=3.7.4.3 in /usr/local/lib/python3.10/dist-packages (from typer->indic-transliteration) (4.5.0)\n",
            "Installing collected packages: roman, backports.functools-lru-cache, indic-transliteration\n",
            "Successfully installed backports.functools-lru-cache-1.6.6 indic-transliteration-2.3.52 roman-4.1\n"
          ]
        }
      ]
    },
    {
      "cell_type": "code",
      "source": [
        "\n",
        "# from indic_transliteration import sanscript\n",
        "# from indic_transliteration.sanscript import transliterate\n",
        "\n",
        "\n",
        "# text = \"I was waiting for my bag\"\n",
        "\n",
        "\n",
        "# print(transliterate(text, sanscript.ITRANS, sanscript.DEVANAGARI))\n",
        "\n"
      ],
      "metadata": {
        "id": "kIwmgswt_q43"
      },
      "execution_count": 15,
      "outputs": []
    },
    {
      "cell_type": "code",
      "source": [
        "!pip install google-transliteration-api"
      ],
      "metadata": {
        "id": "ozvTMtTkI1Wr",
        "colab": {
          "base_uri": "https://localhost:8080/",
          "height": 183
        },
        "outputId": "78de6199-8fa9-4c12-ae49-24455b553bf1"
      },
      "execution_count": 16,
      "outputs": [
        {
          "output_type": "stream",
          "name": "stdout",
          "text": [
            "Collecting google-transliteration-api\n",
            "  Downloading google_transliteration_api-1.0.3-py3-none-any.whl (5.2 kB)\n",
            "Installing collected packages: google-transliteration-api\n",
            "Successfully installed google-transliteration-api-1.0.3\n"
          ]
        },
        {
          "output_type": "display_data",
          "data": {
            "application/vnd.colab-display-data+json": {
              "pip_warning": {
                "packages": [
                  "google"
                ]
              }
            }
          },
          "metadata": {}
        }
      ]
    },
    {
      "cell_type": "code",
      "source": [
        "from google.transliteration import transliterate_word\n",
        "suggestions = transliterate_word('Ram', lang_code='hi')\n",
        "print(suggestions)"
      ],
      "metadata": {
        "id": "dIlN1JuUNnWv",
        "colab": {
          "base_uri": "https://localhost:8080/"
        },
        "outputId": "12b20a1a-304d-4086-9aef-fbc1bd7c0d7c"
      },
      "execution_count": 21,
      "outputs": [
        {
          "output_type": "stream",
          "name": "stdout",
          "text": [
            "['राम', 'रम', 'क्रम', 'ऱम', 'रं', 'रैम']\n"
          ]
        }
      ]
    },
    {
      "cell_type": "code",
      "source": [
        "from google.transliteration import transliterate_word\n",
        "\n",
        "\n",
        "english_sentence = xyz\n",
        "\n",
        "english_words = english_sentence.split()\n",
        "\n",
        "\n",
        "transliterated_words = []\n",
        "\n",
        "\n",
        "for word in english_words:\n",
        "    transliterated_word = transliterate_word(word, lang_code='hi')\n",
        "    transliterated_words.append(transliterated_word)\n",
        "\n",
        "\n",
        "print(\"Transliterated Words:\", transliterated_words)\n"
      ],
      "metadata": {
        "colab": {
          "base_uri": "https://localhost:8080/"
        },
        "id": "lRY2wHLrOS-8",
        "outputId": "c886ce9e-d123-49a0-9a29-898f536b33fe"
      },
      "execution_count": 23,
      "outputs": [
        {
          "output_type": "stream",
          "name": "stdout",
          "text": [
            "Transliterated Words: [['राम', 'रम', 'क्रम', 'ऱम', 'रं', 'रैम'], ['विल', 'विल्ल', 'विलल', 'वील', 'इलल', 'बिल'], ['विन', 'इन', 'वीं', 'विण', 'वीण', 'इण'], ['थे', 'थी', 'तहे', 'ठे', 'ठ', 'ते'], ['मैच', 'मच', 'मातच', 'माच', 'मतच', 'मटक'], ['नेक्स्ट', 'नेक्सट', 'नेस्ट', 'नष्ट', 'नेस्त', 'नैक्सट']]\n"
          ]
        }
      ]
    },
    {
      "cell_type": "code",
      "source": [
        "hindi_sentence = abc\n",
        "\n",
        "\n",
        "hindi_words = hindi_sentence.split()\n",
        "\n",
        "\n",
        "translated_sentence = []\n",
        "for word in hindi_words:\n",
        "\n",
        "    word_replaced = False\n",
        "    for transliterations in transliterated_words:\n",
        "        if word in transliterations:\n",
        "            translated_sentence.append(english_words[transliterated_words.index(transliterations)])\n",
        "            word_replaced = True\n",
        "            break\n",
        "    if not word_replaced:\n",
        "\n",
        "        translated_sentence.append(word)\n",
        "\n",
        "final_translated_sentence = ' '.join(translated_sentence)\n",
        "\n",
        "print(\"Final Translated Sentence:\", final_translated_sentence)"
      ],
      "metadata": {
        "colab": {
          "base_uri": "https://localhost:8080/"
        },
        "id": "ZmBpRx3cZZtp",
        "outputId": "97f49f0f-2545-4a94-d518-507b84ae866f"
      },
      "execution_count": 24,
      "outputs": [
        {
          "output_type": "stream",
          "name": "stdout",
          "text": [
            "Final Translated Sentence: Ram अगले match जीतेंगे।\n"
          ]
        }
      ]
    },
    {
      "cell_type": "code",
      "source": [],
      "metadata": {
        "id": "IxryNocBcZdx"
      },
      "execution_count": null,
      "outputs": []
    }
  ]
}